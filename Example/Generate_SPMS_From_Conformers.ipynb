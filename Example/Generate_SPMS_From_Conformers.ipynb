{
 "cells": [
  {
   "cell_type": "markdown",
   "metadata": {},
   "source": [
    "1. This Notebook will convert molecular conformers to SPMS\n",
    "2. SPMS of CPAs, imines and thiols will be saved in **\"./SPMS_Desc/cat.npy\"**, **\"./SPMS_Desc/imine.npy\"** and **\"./SPMS_Desc/thiol.npy\"**\n",
    "3. All cells should be executed sequentially\n",
    "4. This Jupyter Notebook should be run on **Linux**"
   ]
  },
  {
   "cell_type": "markdown",
   "metadata": {},
   "source": [
    "## Load original files"
   ]
  },
  {
   "cell_type": "code",
   "execution_count": null,
   "metadata": {
    "ExecuteTime": {
     "end_time": "2020-09-17T08:19:49.725558Z",
     "start_time": "2020-09-17T08:19:49.578148Z"
    }
   },
   "outputs": [],
   "source": [
    "import glob,os\n",
    "from spms.desc import SPMS\n",
    "import pandas as pd\n",
    "import numpy as np"
   ]
  },
  {
   "cell_type": "code",
   "execution_count": null,
   "metadata": {
    "ExecuteTime": {
     "end_time": "2020-09-17T08:21:54.722530Z",
     "start_time": "2020-09-17T08:21:54.461669Z"
    }
   },
   "outputs": [],
   "source": [
    "if not os.path.exists('./CPA') and not os.path.exists('./imine') and not os.path.exists('./thiol'):\n",
    "    !unzip ./Conformers.zip"
   ]
  },
  {
   "cell_type": "code",
   "execution_count": null,
   "metadata": {
    "ExecuteTime": {
     "end_time": "2020-09-17T08:22:09.267059Z",
     "start_time": "2020-09-17T08:22:09.071477Z"
    }
   },
   "outputs": [],
   "source": [
    "! ls ./Reaction_Result/"
   ]
  },
  {
   "cell_type": "code",
   "execution_count": null,
   "metadata": {
    "ExecuteTime": {
     "end_time": "2020-09-17T08:22:14.424851Z",
     "start_time": "2020-09-17T08:22:14.413630Z"
    }
   },
   "outputs": [],
   "source": [
    "result_df = pd.read_csv('./Reaction_Result/Denmark_Reaction_Data.csv')\n",
    "cat_smiles = result_df['Catalyst'].to_list()\n",
    "imine_smiles = result_df['Imine'].to_list()\n",
    "thiol_smiles = result_df['Thiol'].to_list()\n",
    "ddG = result_df['Output'].to_list()\n",
    "\n",
    "cat_smiles_set = list(set(cat_smiles))\n",
    "imine_smiles_set = list(set(imine_smiles))\n",
    "thiol_smiles_set = list(set(thiol_smiles))"
   ]
  },
  {
   "cell_type": "code",
   "execution_count": null,
   "metadata": {
    "ExecuteTime": {
     "end_time": "2020-09-17T08:22:16.981245Z",
     "start_time": "2020-09-17T08:22:16.973805Z"
    }
   },
   "outputs": [],
   "source": [
    "cpa_sdf_files = glob.glob('./CPA/*.sdf')\n",
    "imine_sdf_files = glob.glob('./imine/*.sdf')\n",
    "thiol_sdf_files = glob.glob('./thiol/*.sdf')"
   ]
  },
  {
   "cell_type": "markdown",
   "metadata": {},
   "source": [
    "## Calculate SPMS"
   ]
  },
  {
   "cell_type": "markdown",
   "metadata": {},
   "source": [
    "### CPA"
   ]
  },
  {
   "cell_type": "code",
   "execution_count": null,
   "metadata": {
    "ExecuteTime": {
     "end_time": "2020-09-17T08:22:35.811867Z",
     "start_time": "2020-09-17T08:22:35.215925Z"
    }
   },
   "outputs": [],
   "source": [
    "cpa_sdf_files.sort(key=lambda x:eval(x.split('/')[-1].split('_')[1]))\n",
    "all_radius = []\n",
    "for tmp_sdf_file in cpa_sdf_files:\n",
    "    spms_calc = SPMS(tmp_sdf_file,key_atom_num=[3],desc_n=40,desc_m=40)\n",
    "    spms_calc._Standarlize_Geomertry()\n",
    "    tmp_sphere_radius = spms_calc.sphere_radius\n",
    "    all_radius.append(tmp_sphere_radius)\n",
    "all_radius = np.array(all_radius)\n",
    "default_radius = all_radius.max()"
   ]
  },
  {
   "cell_type": "code",
   "execution_count": null,
   "metadata": {
    "ExecuteTime": {
     "end_time": "2020-09-17T08:22:37.140007Z",
     "start_time": "2020-09-17T08:22:37.134106Z"
    }
   },
   "outputs": [],
   "source": [
    "default_radius"
   ]
  },
  {
   "cell_type": "code",
   "execution_count": null,
   "metadata": {
    "ExecuteTime": {
     "end_time": "2020-09-17T08:22:45.568242Z",
     "start_time": "2020-09-17T08:22:45.554381Z"
    }
   },
   "outputs": [],
   "source": [
    "cpa_sdf_files"
   ]
  },
  {
   "cell_type": "code",
   "execution_count": null,
   "metadata": {
    "ExecuteTime": {
     "end_time": "2020-09-17T08:23:58.016215Z",
     "start_time": "2020-09-17T08:23:05.342891Z"
    }
   },
   "outputs": [],
   "source": [
    "### Execute this cell will take few seconds or few minutes\n",
    "all_desc = []\n",
    "for tmp_sdf_file in cpa_sdf_files:\n",
    "    spms_calc = SPMS(tmp_sdf_file,key_atom_num=[3],desc_n=40,desc_m=40,sphere_radius=default_radius)\n",
    "    spms_calc.GetSphereDescriptors()\n",
    "    desc = spms_calc.sphere_descriptors\n",
    "    all_desc.append(desc)\n",
    "all_desc = np.array(all_desc)"
   ]
  },
  {
   "cell_type": "code",
   "execution_count": null,
   "metadata": {
    "ExecuteTime": {
     "end_time": "2020-09-17T08:24:09.438114Z",
     "start_time": "2020-09-17T08:24:09.405525Z"
    }
   },
   "outputs": [],
   "source": [
    "cat_desc_dict = {}\n",
    "for item in cat_smiles_set:\n",
    "    cat_desc_dict[item] = []\n",
    "for i in range(len(all_desc)):\n",
    "    tmp_sdf_file = cpa_sdf_files[i]\n",
    "    with open(tmp_sdf_file,'r') as fr:\n",
    "        tmp_smiles = fr.readlines()[0].strip()\n",
    "    cat_desc_dict[tmp_smiles].append(all_desc[i])\n",
    "new_cat_desc_dict = {}\n",
    "for tmp_key in cat_smiles_set:\n",
    "    new_cat_desc_dict[tmp_key] = np.average(np.array(cat_desc_dict[tmp_key]),axis=0)"
   ]
  },
  {
   "cell_type": "markdown",
   "metadata": {},
   "source": [
    "### imine"
   ]
  },
  {
   "cell_type": "code",
   "execution_count": null,
   "metadata": {
    "ExecuteTime": {
     "end_time": "2020-09-17T08:26:22.917761Z",
     "start_time": "2020-09-17T08:26:22.866318Z"
    }
   },
   "outputs": [],
   "source": [
    "imine_sdf_files.sort(key=lambda x:eval(x.split('/')[-1].split('_')[1]))\n",
    "all_radius = []\n",
    "for tmp_sdf_file in imine_sdf_files:\n",
    "    spms_calc = SPMS(tmp_sdf_file,key_atom_num=[10],desc_n=40,desc_m=40)\n",
    "    spms_calc._Standarlize_Geomertry()\n",
    "    tmp_sphere_radius = spms_calc.sphere_radius\n",
    "    all_radius.append(tmp_sphere_radius)\n",
    "all_radius = np.array(all_radius)\n",
    "default_radius = all_radius.max()"
   ]
  },
  {
   "cell_type": "code",
   "execution_count": null,
   "metadata": {
    "ExecuteTime": {
     "end_time": "2020-09-17T08:26:49.092244Z",
     "start_time": "2020-09-17T08:26:49.085969Z"
    },
    "scrolled": true
   },
   "outputs": [],
   "source": [
    "imine_sdf_files"
   ]
  },
  {
   "cell_type": "code",
   "execution_count": null,
   "metadata": {
    "ExecuteTime": {
     "end_time": "2020-09-17T08:26:57.817393Z",
     "start_time": "2020-09-17T08:26:52.111609Z"
    }
   },
   "outputs": [],
   "source": [
    "all_desc = []\n",
    "for tmp_sdf_file in imine_sdf_files:\n",
    "    spms_calc = SPMS(tmp_sdf_file,key_atom_num=[9,10],desc_n=40,desc_m=40,sphere_radius=default_radius)\n",
    "    spms_calc.GetSphereDescriptors()\n",
    "    desc = spms_calc.sphere_descriptors\n",
    "    all_desc.append(desc)\n",
    "all_desc = np.array(all_desc)\n"
   ]
  },
  {
   "cell_type": "code",
   "execution_count": null,
   "metadata": {
    "ExecuteTime": {
     "end_time": "2020-09-17T08:27:07.202833Z",
     "start_time": "2020-09-17T08:27:07.194039Z"
    }
   },
   "outputs": [],
   "source": [
    "imine_desc_dict = {}\n",
    "for item in imine_smiles_set:\n",
    "    imine_desc_dict[item] = []\n",
    "for i in range(len(all_desc)):\n",
    "    tmp_sdf_file = imine_sdf_files[i]\n",
    "    with open(tmp_sdf_file,'r') as fr:\n",
    "        tmp_smiles = fr.readlines()[0].strip()\n",
    "    imine_desc_dict[tmp_smiles].append(all_desc[i])\n",
    "new_imine_desc_dict = {}\n",
    "for tmp_key in imine_smiles_set:\n",
    "    new_imine_desc_dict[tmp_key] = np.average(np.array(imine_desc_dict[tmp_key]),axis=0)"
   ]
  },
  {
   "cell_type": "markdown",
   "metadata": {},
   "source": [
    "### thiol"
   ]
  },
  {
   "cell_type": "code",
   "execution_count": null,
   "metadata": {
    "ExecuteTime": {
     "end_time": "2020-09-17T08:00:07.933730Z",
     "start_time": "2020-09-17T08:00:07.889377Z"
    }
   },
   "outputs": [],
   "source": [
    "thiol_key = [[1],[1],[1],[1],[3]]\n",
    "thiol_sdf_files.sort(key=lambda x:eval(x.split('/')[-1].split('_')[1]))\n",
    "all_radius = []\n",
    "for i,tmp_sdf_file in enumerate(thiol_sdf_files):\n",
    "    tmp_key_atom = thiol_key[i//20]\n",
    "    spms_calc = SPMS(tmp_sdf_file,key_atom_num=tmp_key_atom,desc_n=40,desc_m=40)\n",
    "    spms_calc._Standarlize_Geomertry()\n",
    "    tmp_sphere_radius = spms_calc.sphere_radius\n",
    "    all_radius.append(tmp_sphere_radius)\n",
    "all_radius = np.array(all_radius)\n",
    "default_radius = all_radius.max()"
   ]
  },
  {
   "cell_type": "code",
   "execution_count": null,
   "metadata": {
    "ExecuteTime": {
     "end_time": "2020-09-17T08:00:09.370609Z",
     "start_time": "2020-09-17T08:00:09.363875Z"
    },
    "scrolled": true
   },
   "outputs": [],
   "source": [
    "thiol_sdf_files"
   ]
  },
  {
   "cell_type": "code",
   "execution_count": null,
   "metadata": {
    "ExecuteTime": {
     "end_time": "2020-09-17T08:00:14.405683Z",
     "start_time": "2020-09-17T08:00:14.400728Z"
    }
   },
   "outputs": [],
   "source": [
    "default_radius"
   ]
  },
  {
   "cell_type": "code",
   "execution_count": null,
   "metadata": {
    "ExecuteTime": {
     "end_time": "2020-09-17T08:00:21.753901Z",
     "start_time": "2020-09-17T08:00:18.506223Z"
    }
   },
   "outputs": [],
   "source": [
    "all_desc = []\n",
    "for i,tmp_sdf_file in enumerate(thiol_sdf_files):\n",
    "    tmp_key_atom = thiol_key[i//20]\n",
    "    spms_calc = SPMS(tmp_sdf_file,key_atom_num=tmp_key_atom,desc_n=40,desc_m=40,sphere_radius=default_radius)\n",
    "    spms_calc.GetSphereDescriptors()\n",
    "    desc = spms_calc.sphere_descriptors\n",
    "    all_desc.append(desc)\n",
    "all_desc = np.array(all_desc)"
   ]
  },
  {
   "cell_type": "code",
   "execution_count": null,
   "metadata": {
    "ExecuteTime": {
     "end_time": "2020-09-17T08:00:24.477773Z",
     "start_time": "2020-09-17T08:00:24.469346Z"
    }
   },
   "outputs": [],
   "source": [
    "thiol_desc_dict = {}\n",
    "for item in thiol_smiles_set:\n",
    "    thiol_desc_dict[item] = []\n",
    "\n",
    "for i in range(len(all_desc)):\n",
    "    \n",
    "    tmp_sdf_file = thiol_sdf_files[i]\n",
    "    with open(tmp_sdf_file,'r') as fr:\n",
    "        tmp_smiles = fr.readlines()[0].strip()\n",
    "    \n",
    "    thiol_desc_dict[tmp_smiles].append(all_desc[i])\n",
    "new_thiol_desc_dict = {}\n",
    "for tmp_key in thiol_smiles_set:\n",
    "    new_thiol_desc_dict[tmp_key] = np.average(np.array(thiol_desc_dict[tmp_key]),axis=0)"
   ]
  },
  {
   "cell_type": "markdown",
   "metadata": {},
   "source": [
    "## Generate reaction SPMS"
   ]
  },
  {
   "cell_type": "code",
   "execution_count": null,
   "metadata": {
    "ExecuteTime": {
     "end_time": "2020-09-17T08:02:24.852128Z",
     "start_time": "2020-09-17T08:02:24.802189Z"
    }
   },
   "outputs": [],
   "source": [
    "react_cat_desc = np.array([new_cat_desc_dict[item] for item in cat_smiles])\n",
    "react_imine_desc = np.array([new_imine_desc_dict[item] for item in imine_smiles])\n",
    "react_thiol_desc = np.array([new_thiol_desc_dict[item] for item in thiol_smiles])\n",
    "if not os.path.exists('./SPMS_Desc'):\n",
    "    os.mkdir('./SPMS_Desc')\n",
    "np.save('./SPMS_Desc/cat.npy',react_cat_desc)\n",
    "np.save('./SPMS_Desc/imine.npy',react_imine_desc)\n",
    "np.save('./SPMS_Desc/thiol.npy',react_thiol_desc)"
   ]
  }
 ],
 "metadata": {
  "kernelspec": {
   "display_name": "Python 3",
   "language": "python",
   "name": "python3"
  },
  "language_info": {
   "codemirror_mode": {
    "name": "ipython",
    "version": 3
   },
   "file_extension": ".py",
   "mimetype": "text/x-python",
   "name": "python",
   "nbconvert_exporter": "python",
   "pygments_lexer": "ipython3",
   "version": "3.9.17"
  },
  "toc": {
   "base_numbering": 1,
   "nav_menu": {},
   "number_sections": true,
   "sideBar": true,
   "skip_h1_title": false,
   "title_cell": "Table of Contents",
   "title_sidebar": "Contents",
   "toc_cell": false,
   "toc_position": {},
   "toc_section_display": true,
   "toc_window_display": false
  },
  "varInspector": {
   "cols": {
    "lenName": 16,
    "lenType": 16,
    "lenVar": 40
   },
   "kernels_config": {
    "python": {
     "delete_cmd_postfix": "",
     "delete_cmd_prefix": "del ",
     "library": "var_list.py",
     "varRefreshCmd": "print(var_dic_list())"
    },
    "r": {
     "delete_cmd_postfix": ") ",
     "delete_cmd_prefix": "rm(",
     "library": "var_list.r",
     "varRefreshCmd": "cat(var_dic_list()) "
    }
   },
   "types_to_exclude": [
    "module",
    "function",
    "builtin_function_or_method",
    "instance",
    "_Feature"
   ],
   "window_display": false
  }
 },
 "nbformat": 4,
 "nbformat_minor": 4
}
